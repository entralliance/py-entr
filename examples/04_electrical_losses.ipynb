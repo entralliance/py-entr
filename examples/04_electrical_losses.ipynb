{
 "cells": [
  {
   "cell_type": "markdown",
   "metadata": {},
   "source": [
    "# Gap Analysis Step 3: Estimate Electrical Losses Using SCADA and Revenue Meter Data"
   ]
  },
  {
   "cell_type": "code",
   "execution_count": 1,
   "metadata": {},
   "outputs": [],
   "source": [
    "%load_ext autoreload\n",
    "%autoreload 2"
   ]
  },
  {
   "cell_type": "markdown",
   "metadata": {},
   "source": [
    "Calculating electrical losses in this method is relatively straightforward. In short, the sum of turbine energy is compared to the sum of metered energy, with the differnce equaling the electrical losses for the wind farm. However, the time resolution of the metered data and dealing with missing data are important aspects of this method.\n",
    "\n",
    "The approach is to first calculate daily sums of turbine and revenue meter energy over the \n",
    "plant period of record. Only those days where all turbines and the revenue meter were \n",
    "reporting for all timesteps are considered. Electrical loss is then the difference in \n",
    "total turbine energy production and meter production over those concurrent days. \n",
    "    \n",
    "Uncertainty in the calculated electrical losses is estimated by applying a Monte Carlo approach to sample revenue meter data and SCADA data with a 0.5% imposed uncertainty. One filtering parameter is sampled too.\n",
    "The uncertainty in estimated electrical losses is quantified as the standard deviation\n",
    "of the distribution of losses obtained from the MC sampling.\n",
    "    \n",
    "In this example, the procedure for calculating electrical losses is illustrated with and without uncertainty quantification.\n",
    "    \n",
    "In the case that meter data is not provided on a daily or sub-daily basis (e.g. monthly), a\n",
    "different approach is implemented. The sum of daily turbine energy is corrected for any missing \n",
    "reported energy data from the turbines based on the ratio of expected number of data counts per day \n",
    "to the actual. Daily corrected sum of turbine energy is then summed on a monthly basis. Electrical \n",
    "loss is then the difference between total corrected turbine energy production and meter production \n",
    "over those concurrent months.   "
   ]
  },
  {
   "cell_type": "code",
   "execution_count": 1,
   "metadata": {},
   "outputs": [],
   "source": [
    "# Import required packages\n",
    "from datetime import datetime\n",
    "\n",
    "import numpy as np\n",
    "import pandas as pd\n",
    "\n",
    "from openoa.analysis import ElectricalLosses\n",
    "\n",
    "from openoa import PlantData"
   ]
  },
  {
   "cell_type": "markdown",
   "metadata": {},
   "source": [
    "In the call below, make sure the appropriate path to the CSV input files is specfied. In this example, the CSV files are located directly in the 'examples/operational_AEP_analysis/data' folder."
   ]
  },
  {
   "cell_type": "code",
   "execution_count": 2,
   "metadata": {},
   "outputs": [
    {
     "name": "stdout",
     "output_type": "stream",
     "text": [
      "{'scada': {'columns': ['id', 'WMET_HorWdSpd', 'WTUR_W'], 'freq': ('D', 'H', 'T', 'min', 'S', 'L', 'ms', 'U', 'us', 'N')}, 'meter': {'columns': ['MMTR_SupWh'], 'freq': ('M', 'MS', 'W', 'D', 'H', 'T', 'min', 'S', 'L', 'ms', 'U', 'us', 'N')}}\n",
      "scada\n",
      "'WMET.HorWdSpd','WTUR.W'\n",
      "SELECT interval_s, value_type, value_units FROM openoa_wtg_scada_tag_metadata WHERE entr_tag_name in ('WMET.HorWdSpd','WTUR.W');\n",
      "   interval_s value_type value_units\n",
      "0  600.000000    average         m/s\n",
      "1  600.000000    average           W\n",
      "SELECT float(`WMET.HorWdSpd`) as WMET_HorWdSpd ,float(`WTUR.W`) as WTUR_W , date_time as time,entr_warehouse.openoa_wtg_scada.wind_turbine_name as WTUR_TurNam FROM openoa_wtg_scada WHERE plant_id = 1 ORDER BY time;\n",
      "meter\n",
      "'MMTR.SupWh'\n",
      "SELECT interval_s, value_type, value_units FROM openoa_revenue_meter_tag_metadata WHERE entr_tag_name in ('MMTR.SupWh');\n",
      "   interval_s value_type value_units\n",
      "0  600.000000        sum         kWh\n",
      "SELECT float(`MMTR.SupWh`) as MMTR_SupWh , date_time as time FROM openoa_revenue_meter WHERE plant_id = 1 ORDER BY time;\n"
     ]
    },
    {
     "name": "stderr",
     "output_type": "stream",
     "text": [
      "INFO:numexpr.utils:NumExpr defaulting to 5 threads.\n"
     ]
    },
    {
     "name": "stdout",
     "output_type": "stream",
     "text": [
      "METADATA:\n",
      "{'latitude': Decimal('48.452000'), 'longitude': Decimal('5.588000'), 'capacity': Decimal('8.200000'), 'number_of_turbines': 4, 'turbine_capacity': Decimal('2.050000'), '_entr_plant_id': 1, 'scada': {'frequency': Timedelta('0 days 00:10:00'), 'time': 'time', 'WMET_HorWdSpd': 'WMET_HorWdSpd', 'WTUR_W': 'WTUR_W'}, 'meter': {'frequency': Timedelta('0 days 00:10:00'), 'time': 'time', 'MMTR_SupWh': 'MMTR_SupWh'}}\n",
      "TABLES:\n",
      "{'scada':         WMET_HorWdSpd         WTUR_W                time WTUR_TurNam\n",
      "0                6.39  441060.000000 2014-01-01 00:00:00      R80721\n",
      "1                6.87  514240.000000 2014-01-01 00:00:00      R80711\n",
      "2                7.12  642780.000000 2014-01-01 00:00:00      R80736\n",
      "3                7.11  658530.000000 2014-01-01 00:00:00      R80790\n",
      "4                7.01  640240.000000 2014-01-01 00:10:00      R80790\n",
      "...               ...            ...                 ...         ...\n",
      "420427           5.04  203539.984375 2015-12-31 23:40:00      R80790\n",
      "420428           4.98  171429.984375 2015-12-31 23:50:00      R80790\n",
      "420429           4.89  136320.015625 2015-12-31 23:50:00      R80721\n",
      "420430           4.47   82839.992188 2015-12-31 23:50:00      R80736\n",
      "420431           6.07  376830.000000 2015-12-31 23:50:00      R80711\n",
      "\n",
      "[420432 rows x 4 columns], 'meter':         MMTR_SupWh                time\n",
      "0       369.726013 2014-01-01 00:00:00\n",
      "1       376.408997 2014-01-01 00:10:00\n",
      "2       309.199005 2014-01-01 00:20:00\n",
      "3       350.175995 2014-01-01 00:30:00\n",
      "4       286.333008 2014-01-01 00:40:00\n",
      "...            ...                 ...\n",
      "105115  147.141006 2015-12-31 23:10:00\n",
      "105116  194.841995 2015-12-31 23:20:00\n",
      "105117  180.688004 2015-12-31 23:30:00\n",
      "105118  149.039001 2015-12-31 23:40:00\n",
      "105119  125.091003 2015-12-31 23:50:00\n",
      "\n",
      "[105120 rows x 2 columns]}\n",
      "dict_keys(['scada', 'meter', 'metadata', 'analysis_type'])\n",
      "FromDict called for class <class 'openoa.plant.PlantMetaData'> with data = {'latitude': Decimal('48.452000'), 'longitude': Decimal('5.588000'), 'capacity': Decimal('8.200000'), 'number_of_turbines': 4, 'turbine_capacity': Decimal('2.050000'), '_entr_plant_id': 1, 'scada': {'frequency': Timedelta('0 days 00:10:00'), 'time': 'time', 'WMET_HorWdSpd': 'WMET_HorWdSpd', 'WTUR_W': 'WTUR_W'}, 'meter': {'frequency': Timedelta('0 days 00:10:00'), 'time': 'time', 'MMTR_SupWh': 'MMTR_SupWh'}}\n",
      "FromDict called for class <class 'openoa.plant.SCADAMetaData'> with data = {'frequency': Timedelta('0 days 00:10:00'), 'time': 'time', 'WMET_HorWdSpd': 'WMET_HorWdSpd', 'WTUR_W': 'WTUR_W'}\n",
      "FromDict called for class <class 'openoa.plant.MeterMetaData'> with data = {'frequency': Timedelta('0 days 00:10:00'), 'time': 'time', 'MMTR_SupWh': 'MMTR_SupWh'}\n",
      "FromDict called for class <class 'openoa.plant.TowerMetaData'> with data = {}\n",
      "FromDict called for class <class 'openoa.plant.StatusMetaData'> with data = {}\n",
      "FromDict called for class <class 'openoa.plant.CurtailMetaData'> with data = {}\n",
      "FromDict called for class <class 'openoa.plant.AssetMetaData'> with data = {}\n",
      "Convert reanalysis\n",
      "FromDict called for class <class 'openoa.plant.ReanalysisMetaData'> with data = {}\n",
      "validate: scada\n",
      "validate: meter\n",
      "validate: scada\n",
      "validate: meter\n",
      "validate: scada\n",
      "validate: meter\n"
     ]
    }
   ],
   "source": [
    "# Load wind farm object, append the analysis type for this example, and revalidate the data\n",
    "project = PlantData.from_entr(\"La Haute Borne\", schema=\"ElectricalLosses\")"
   ]
  },
  {
   "cell_type": "code",
   "execution_count": 3,
   "metadata": {},
   "outputs": [],
   "source": [
    "#project.validate()"
   ]
  },
  {
   "cell_type": "markdown",
   "metadata": {},
   "source": [
    "## Electrical loss estimation without uncertainty quantification\n",
    "\n",
    "Next we create an Electrical Loss object which will contain the analysis to be performed. The method has the ability to calculate uncertainty in the electrical losses through a Monte Carlo sampling of power data based on its measurement uncertainty. For now, we turn this option off and calculate a single electrical loss value."
   ]
  },
  {
   "cell_type": "code",
   "execution_count": 4,
   "metadata": {},
   "outputs": [
    {
     "name": "stderr",
     "output_type": "stream",
     "text": [
      "INFO:openoa.analysis.electrical_losses:Initializing Electrical Losses Object\n",
      "INFO:openoa.analysis.electrical_losses:Note: uncertainty quantification will NOT be performed in the calculation\n",
      "INFO:openoa.analysis.electrical_losses:Processing SCADA data\n",
      "INFO:openoa.analysis.electrical_losses:Processing meter data\n"
     ]
    }
   ],
   "source": [
    "# Create Electrical Loss object\n",
    "el = ElectricalLosses(\n",
    "    project,\n",
    "    UQ=False,  # (default), only run a single simulation\n",
    "    uncertainty_correction_threshold=0.95,  # (default) exclude months with < 95% coverage\n",
    ")"
   ]
  },
  {
   "cell_type": "code",
   "execution_count": 5,
   "metadata": {},
   "outputs": [
    {
     "name": "stderr",
     "output_type": "stream",
     "text": [
      "INFO:openoa.analysis.electrical_losses:Calculating electrical losses\n",
      "100%|██████████| 1/1 [00:00<00:00, 141.84it/s]\n"
     ]
    }
   ],
   "source": [
    "# Now we run the analysis using the run() function in the method\n",
    "el.run()"
   ]
  },
  {
   "cell_type": "markdown",
   "metadata": {},
   "source": [
    "Now that the analyiss is complete, let's examine the results"
   ]
  },
  {
   "cell_type": "code",
   "execution_count": 6,
   "metadata": {},
   "outputs": [
    {
     "data": {
      "text/plain": [
       "0.020008333235557174"
      ]
     },
     "execution_count": 6,
     "metadata": {},
     "output_type": "execute_result"
    }
   ],
   "source": [
    "el.electrical_losses[0][0]"
   ]
  },
  {
   "cell_type": "code",
   "execution_count": 7,
   "metadata": {},
   "outputs": [
    {
     "name": "stdout",
     "output_type": "stream",
     "text": [
      "Electrical losses are 2.0%\n"
     ]
    }
   ],
   "source": [
    "# Electrical losses for the wind farm\n",
    "print(f\"Electrical losses are {el.electrical_losses[0][0]:.1%}\")"
   ]
  },
  {
   "cell_type": "markdown",
   "metadata": {},
   "source": [
    "Now let's plot electrical losses by month"
   ]
  },
  {
   "cell_type": "code",
   "execution_count": 8,
   "metadata": {},
   "outputs": [
    {
     "data": {
      "image/png": "[encoded data removed]",
      "text/plain": [
       "<Figure size 1200x800 with 1 Axes>"
      ]
     },
     "metadata": {
      "needs_background": "light"
     },
     "output_type": "display_data"
    }
   ],
   "source": [
    "el.plot_monthly_losses(\n",
    "    xlim=(datetime(month=12, day=1, year=2013), datetime(month=1, day=1, year=2016)),\n",
    "    ylim=(0, 2.2)\n",
    ")"
   ]
  },
  {
   "cell_type": "markdown",
   "metadata": {},
   "source": [
    "We see that electrical losses vary between 1.98 and 2.02%. This is a narrow range, but keep in mind the meter data for La Haute Borne was synthesized by NREL based on the SCADA data and sampling around a 2% electrical loss with a standard deviation of 0.5%. Part of the reason for the very low spread in estimated monthly electrical losses is that uncertainty was introduced to the meter data at the 10-minute level when the data were synthesized. This uncertainty tends to get averaged out over the period of record. Normally electrical losses using actual meter data would not be this consistent and would generally show seasonal trends."
   ]
  },
  {
   "cell_type": "markdown",
   "metadata": {},
   "source": [
    "## Electrical loss estimation including uncertainty quantification\n",
    "\n",
    "Next we create an Electrical Loss object with uncertainty quantification enabled and the number of Monte Carlo simulations set to 3000. This method calculates uncertainty in the electrical losses through a Monte Carlo sampling of power data based on its assumed measurement uncertainty of 0.5%. Furthermore, if dealing with monthly meter data, a range of availabiity thresholds used to remove months with low data coverage is sampled. "
   ]
  },
  {
   "cell_type": "code",
   "execution_count": 9,
   "metadata": {},
   "outputs": [
    {
     "name": "stderr",
     "output_type": "stream",
     "text": [
      "INFO:openoa.analysis.electrical_losses:Initializing Electrical Losses Object\n",
      "INFO:openoa.analysis.electrical_losses:Note: uncertainty quantification will be performed in the calculation\n",
      "INFO:openoa.analysis.electrical_losses:Processing SCADA data\n",
      "INFO:openoa.analysis.electrical_losses:Processing meter data\n"
     ]
    }
   ],
   "source": [
    "# Create Electrical Loss object\n",
    "el = ElectricalLosses(\n",
    "    project, UQ = True, # enable UQ\n",
    "    num_sim = 3000, # number of Monte Carlo simulations to perform\n",
    "    uncertainty_meter=0.005, # 0.5% uncertainty in meter data\n",
    "    uncertainty_scada=0.005,  # 0.5% uncertainty in scada data\n",
    "    uncertainty_correction_threshold=(0.9, 0.995), # randomly sample between 90% and 99.5% coverage required in a month\n",
    ")"
   ]
  },
  {
   "cell_type": "code",
   "execution_count": 10,
   "metadata": {},
   "outputs": [
    {
     "name": "stderr",
     "output_type": "stream",
     "text": [
      "INFO:openoa.analysis.electrical_losses:Calculating electrical losses\n",
      "100%|██████████| 3000/3000 [00:05<00:00, 591.03it/s]\n"
     ]
    }
   ],
   "source": [
    "# Now we run the analysis using the run() function in the method\n",
    "el.run()"
   ]
  },
  {
   "cell_type": "markdown",
   "metadata": {},
   "source": [
    "Now let's examine the results from the Monte Carlo simulations"
   ]
  },
  {
   "cell_type": "code",
   "execution_count": 11,
   "metadata": {},
   "outputs": [
    {
     "name": "stdout",
     "output_type": "stream",
     "text": [
      "Electrical losses are 1.98%\n",
      "Uncertainty in the electrical loss estimate is 0.69%\n"
     ]
    }
   ],
   "source": [
    "# Electrical losses for the wind farm\n",
    "print(f\"Electrical losses are {el.electrical_losses.mean():.2%}\")\n",
    "print(f\"Uncertainty in the electrical loss estimate is {el.electrical_losses.std():.2%}\")"
   ]
  },
  {
   "cell_type": "markdown",
   "metadata": {},
   "source": [
    "Again, the expected electrical losses are 2.0 percent. The uncertainty in the calculated losses is estimated to be 0.7%. This uncertainty value is given by the standard deviation of electrical losses over all Monte Carlo iterations and is primarily driven by the assumed 0.5% uncertainty for meter and SCADA power values. "
   ]
  }
 ],
 "metadata": {
  "kernelspec": {
   "display_name": "Python 3 (ipykernel)",
   "language": "python",
   "name": "python3"
  },
  "language_info": {
   "codemirror_mode": {
    "name": "ipython",
    "version": 3
   },
   "file_extension": ".py",
   "mimetype": "text/x-python",
   "name": "python",
   "nbconvert_exporter": "python",
   "pygments_lexer": "ipython3",
   "version": "3.9.12"
  },
  "toc": {
   "base_numbering": 1,
   "nav_menu": {},
   "number_sections": true,
   "sideBar": true,
   "skip_h1_title": false,
   "title_cell": "Table of Contents",
   "title_sidebar": "Contents",
   "toc_cell": false,
   "toc_position": {},
   "toc_section_display": true,
   "toc_window_display": false
  }
 },
 "nbformat": 4,
 "nbformat_minor": 4
}
